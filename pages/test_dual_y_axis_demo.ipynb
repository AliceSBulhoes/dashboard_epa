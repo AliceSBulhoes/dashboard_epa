{
 "cells": [
  {
   "cell_type": "markdown",
   "id": "5f02e6bc",
   "metadata": {},
   "source": [
    "# Demo: Dual Y-Axis Chart Implementation\n",
    "\n",
    "Este notebook demonstra a implementação da função `create_dual_y_axis_chart` que foi integrada ao dashboard."
   ]
  },
  {
   "cell_type": "code",
   "execution_count": null,
   "id": "2d3f7035",
   "metadata": {},
   "outputs": [],
   "source": [
    "import pandas as pd\n",
    "import plotly.express as px\n",
    "import plotly.graph_objects as go\n",
    "from datetime import datetime, timedelta\n",
    "import numpy as np"
   ]
  },
  {
   "cell_type": "markdown",
   "id": "ee857c30",
   "metadata": {},
   "source": [
    "## Criação de Dados de Exemplo"
   ]
  },
  {
   "cell_type": "code",
   "execution_count": null,
   "id": "6dd12ed5",
   "metadata": {},
   "outputs": [],
   "source": [
    "# Criar dados de exemplo similares aos do dashboard\n",
    "dates = pd.date_range(start='2024-01-01', periods=12, freq='M')\n",
    "np.random.seed(42)\n",
    "\n",
    "# Simular volumes removidos (com alguns valores zero para realismo)\n",
    "volumes_sao = np.random.randint(10, 100, 12)\n",
    "volumes_sao[2] = 0  # Simular um mês sem remoção\n",
    "volumes_sao[7] = 0  # Simular outro mês sem remoção\n",
    "\n",
    "volumes_bailer = np.random.randint(5, 50, 12)\n",
    "volumes_bailer[1] = 0\n",
    "volumes_bailer[5] = 0\n",
    "\n",
    "df_exemplo = pd.DataFrame({\n",
    "    'Data': dates,\n",
    "    'Volume Removido SAO (L)': volumes_sao,\n",
    "    'Volume Removido Bailer (L)': volumes_bailer\n",
    "})\n",
    "\n",
    "print(\"Dados de exemplo:\")\n",
    "print(df_exemplo.head(10))"
   ]
  },
  {
   "cell_type": "markdown",
   "id": "7d1a9c73",
   "metadata": {},
   "source": [
    "## Implementação da Função Dual Y-Axis"
   ]
  },
  {
   "cell_type": "code",
   "execution_count": null,
   "id": "8ffde02d",
   "metadata": {},
   "outputs": [],
   "source": [
    "def create_dual_y_axis_chart(df, x_col, y_col, title_prefix, color_primary=\"#156082\", color_secondary=\"#c44d15\"):\n",
    "    \"\"\"\n",
    "    Cria um gráfico com duplo eixo Y.\n",
    "    - Eixo Y esquerdo: valores originais (barras)\n",
    "    - Eixo Y direito: valores acumulados (linha)\n",
    "    \n",
    "    Args:\n",
    "        df: DataFrame com os dados\n",
    "        x_col: nome da coluna do eixo X (geralmente 'Data')\n",
    "        y_col: nome da coluna do eixo Y (ex: 'Volume Removido SAO (L)')\n",
    "        title_prefix: prefixo do título (ex: 'Volume Removido SAO')\n",
    "        color_primary: cor das barras (eixo esquerdo)\n",
    "        color_secondary: cor da linha (eixo direito)\n",
    "    \n",
    "    Returns:\n",
    "        fig: figura do Plotly com duplo eixo Y\n",
    "    \"\"\"\n",
    "    \n",
    "    # Ordenar por data para calcular acumulado corretamente\n",
    "    df_sorted = df.sort_values(by=x_col).copy()\n",
    "    \n",
    "    # Calcular valores acumulados\n",
    "    df_sorted[f'{y_col}_Acumulado'] = df_sorted[y_col].cumsum()\n",
    "    \n",
    "    # Criar gráfico base com barras no eixo Y primário\n",
    "    fig = px.bar(\n",
    "        df_sorted,\n",
    "        x=x_col,\n",
    "        y=y_col,\n",
    "        title=f'{title_prefix} - Valores Individuais vs Acumulados',\n",
    "        color_discrete_sequence=[color_primary]\n",
    "    )\n",
    "    \n",
    "    # Adicionar linha com valores acumulados no eixo Y secundário\n",
    "    fig.add_trace(\n",
    "        go.Scatter(\n",
    "            x=df_sorted[x_col],\n",
    "            y=df_sorted[f'{y_col}_Acumulado'],\n",
    "            mode='lines+markers',\n",
    "            name=f'{title_prefix} Acumulado',\n",
    "            yaxis=\"y2\",\n",
    "            line=dict(color=color_secondary, width=3),\n",
    "            marker=dict(size=6)\n",
    "        )\n",
    "    )\n",
    "    \n",
    "    # Configurar layout com duplo eixo Y\n",
    "    fig.update_layout(\n",
    "        yaxis=dict(\n",
    "            title=f\"{title_prefix} (Individual)\",\n",
    "            side=\"left\"\n",
    "        ),\n",
    "        yaxis2=dict(\n",
    "            title=f\"{title_prefix} (Acumulado)\", \n",
    "            overlaying=\"y\",\n",
    "            side=\"right\"\n",
    "        ),\n",
    "        dragmode='zoom',\n",
    "        xaxis_tickangle=-45,\n",
    "        legend_title_text='Séries',\n",
    "        hovermode='x unified'\n",
    "    )\n",
    "    \n",
    "    # Atualizar nome da primeira trace (barras)\n",
    "    fig.data[0].name = f'{title_prefix} Individual'\n",
    "    \n",
    "    return fig"
   ]
  },
  {
   "cell_type": "markdown",
   "id": "62c9bd03",
   "metadata": {},
   "source": [
    "## Teste 1: Volume Removido SAO"
   ]
  },
  {
   "cell_type": "code",
   "execution_count": null,
   "id": "d88c5888",
   "metadata": {},
   "outputs": [],
   "source": [
    "# Criar gráfico dual y-axis para Volume SAO\n",
    "fig_sao = create_dual_y_axis_chart(\n",
    "    df_exemplo,\n",
    "    x_col='Data',\n",
    "    y_col='Volume Removido SAO (L)',\n",
    "    title_prefix='Volume Removido SAO',\n",
    "    color_primary='#156082',\n",
    "    color_secondary='#c44d15'\n",
    ")\n",
    "\n",
    "fig_sao.show()"
   ]
  },
  {
   "cell_type": "markdown",
   "id": "7df49d58",
   "metadata": {},
   "source": [
    "## Teste 2: Volume Removido Bailer"
   ]
  },
  {
   "cell_type": "code",
   "execution_count": null,
   "id": "722f6b30",
   "metadata": {},
   "outputs": [],
   "source": [
    "# Criar gráfico dual y-axis para Volume Bailer\n",
    "fig_bailer = create_dual_y_axis_chart(\n",
    "    df_exemplo,\n",
    "    x_col='Data',\n",
    "    y_col='Volume Removido Bailer (L)',\n",
    "    title_prefix='Volume Removido Bailer',\n",
    "    color_primary='#e17b7b',\n",
    "    color_secondary='#c44d15'\n",
    ")\n",
    "\n",
    "fig_bailer.show()"
   ]
  },
  {
   "cell_type": "markdown",
   "id": "973d8d18",
   "metadata": {},
   "source": [
    "## Verificação dos Dados Acumulados"
   ]
  },
  {
   "cell_type": "code",
   "execution_count": null,
   "id": "d8e3d167",
   "metadata": {},
   "outputs": [],
   "source": [
    "# Verificar se os cálculos estão corretos\n",
    "df_test = df_exemplo.copy()\n",
    "df_test['SAO_Acumulado'] = df_test['Volume Removido SAO (L)'].cumsum()\n",
    "df_test['Bailer_Acumulado'] = df_test['Volume Removido Bailer (L)'].cumsum()\n",
    "\n",
    "print(\"Verificação dos valores acumulados:\")\n",
    "print(df_test[['Data', 'Volume Removido SAO (L)', 'SAO_Acumulado', \n",
    "               'Volume Removido Bailer (L)', 'Bailer_Acumulado']].head(10))"
   ]
  },
  {
   "cell_type": "markdown",
   "id": "86ee980f",
   "metadata": {},
   "source": [
    "## Como a Função foi Integrada ao Dashboard\n",
    "\n",
    "A função `create_dual_y_axis_chart` foi integrada ao dashboard EPA da seguinte forma:\n",
    "\n",
    "### 1. **Novas Opções no Multiselect**\n",
    "- **Volume Produto**: `'Dual Y-Axis SAO'`, `'Dual Y-Axis Bailer'`\n",
    "- **Volume Bombeado**: `'Dual Y-Axis Bombeado'`\n",
    "\n",
    "### 2. **Funcionalidade**\n",
    "- **Eixo Y Esquerdo (Barras)**: Valores individuais para cada período\n",
    "- **Eixo Y Direito (Linha)**: Valores acumulados ao longo do tempo\n",
    "- **Hover Unificado**: Informações de ambos os eixos no mesmo tooltip\n",
    "- **Zoom Habilitado**: Para análise detalhada de períodos específicos\n",
    "\n",
    "### 3. **Cores Personalizadas**\n",
    "- **SAO**: Primário `#156082` (azul), Secundário `#c44d15` (laranja)\n",
    "- **Bailer**: Primário `#e17b7b` (vermelho claro), Secundário `#c44d15` (laranja)\n",
    "- **Bombeado**: Primário `#156082` (azul), Secundário `#c44d15` (laranja)\n",
    "\n",
    "### 4. **Layout Inteligente**\n",
    "O dashboard agora suporta exibição flexível de 1-5+ gráficos com layout responsivo."
   ]
  }
 ],
 "metadata": {
  "language_info": {
   "name": "python"
  }
 },
 "nbformat": 4,
 "nbformat_minor": 5
}
